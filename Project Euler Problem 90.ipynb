{
 "cells": [
  {
   "cell_type": "code",
   "execution_count": 1,
   "metadata": {},
   "outputs": [
    {
     "ename": "SyntaxError",
     "evalue": "invalid syntax (<ipython-input-1-8a89598bf857>, line 1)",
     "output_type": "error",
     "traceback": [
      "\u001b[1;36m  File \u001b[1;32m\"<ipython-input-1-8a89598bf857>\"\u001b[1;36m, line \u001b[1;32m1\u001b[0m\n\u001b[1;33m    One cube must have 0 and 8, the other needs to have 1 and 4\u001b[0m\n\u001b[1;37m           ^\u001b[0m\n\u001b[1;31mSyntaxError\u001b[0m\u001b[1;31m:\u001b[0m invalid syntax\n"
     ]
    }
   ],
   "source": [
    "One cube must have 0 and 8, the other needs to have 1 and 4\n",
    "One of the cubes has a 6, the other has a 9\n",
    "One of the cubes has a 2, the other has a 5\n",
    "7 can be on either cube or no cube\n",
    "3 should be on at least one cube\n",
    "\n",
    "Certain configuration that will work: \n",
    "0, 8, 6 or 9 or both, 2 or 5 or both, optional whether a 3 or a 7, other digits optional\n",
    "1, 4, 6 or 9 or both, 2 or 5 or both, optional whether a 3 or a 7, other digits optional\n",
    "\n",
    "\n",
    "\n",
    "Data structure: Set of sets? Need to check complementary set"
   ]
  },
  {
   "cell_type": "code",
   "execution_count": null,
   "metadata": {},
   "outputs": [],
   "source": [
    "C"
   ]
  }
 ],
 "metadata": {
  "kernelspec": {
   "display_name": "Python 3",
   "language": "python",
   "name": "python3"
  },
  "language_info": {
   "codemirror_mode": {
    "name": "ipython",
    "version": 3
   },
   "file_extension": ".py",
   "mimetype": "text/x-python",
   "name": "python",
   "nbconvert_exporter": "python",
   "pygments_lexer": "ipython3",
   "version": "3.7.3"
  }
 },
 "nbformat": 4,
 "nbformat_minor": 2
}
