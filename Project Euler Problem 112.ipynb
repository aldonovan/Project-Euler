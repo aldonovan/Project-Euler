{
 "cells": [
  {
   "cell_type": "code",
   "execution_count": 29,
   "metadata": {},
   "outputs": [
    {
     "name": "stdout",
     "output_type": "stream",
     "text": [
      "The number at which the proportion of bouncy integers reaches exactly 99% is 1587000\n"
     ]
    }
   ],
   "source": [
    "import math\n",
    "increasing = True\n",
    "decreasing = True\n",
    "def checkBouncy(x):\n",
    "    digits = []\n",
    "    while(x > 0):\n",
    "        digits.insert(0, x%10)\n",
    "        x = math.floor(x/10)\n",
    "    lastDigit = digits[0]\n",
    "    increasing = True\n",
    "    decreasing = True\n",
    "    for digit in digits:\n",
    "        if(digit < lastDigit):\n",
    "            increasing = False\n",
    "        if(digit > lastDigit):\n",
    "            decreasing = False\n",
    "        lastDigit = digit\n",
    "    if(increasing and decreasing):\n",
    "        bothIncreasing = True\n",
    "    return not(increasing or decreasing)\n",
    "\n",
    "number = 0\n",
    "i = 1\n",
    "while True:\n",
    "    if(checkBouncy(i)):\n",
    "        number = number + 1\n",
    "    if(number == 0.99*i):\n",
    "        break\n",
    "    i = i + 1\n",
    "\n",
    "print(\"The number at which the proportion of bouncy integers reaches exactly 99% is \" + str(i))"
   ]
  },
  {
   "cell_type": "code",
   "execution_count": null,
   "metadata": {},
   "outputs": [],
   "source": []
  }
 ],
 "metadata": {
  "kernelspec": {
   "display_name": "Python 3",
   "language": "python",
   "name": "python3"
  },
  "language_info": {
   "codemirror_mode": {
    "name": "ipython",
    "version": 3
   },
   "file_extension": ".py",
   "mimetype": "text/x-python",
   "name": "python",
   "nbconvert_exporter": "python",
   "pygments_lexer": "ipython3",
   "version": "3.7.3"
  }
 },
 "nbformat": 4,
 "nbformat_minor": 2
}
