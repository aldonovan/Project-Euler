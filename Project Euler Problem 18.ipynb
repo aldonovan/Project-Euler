{
 "cells": [
  {
   "cell_type": "code",
   "execution_count": 41,
   "metadata": {},
   "outputs": [
    {
     "name": "stdout",
     "output_type": "stream",
     "text": [
      "1074\n"
     ]
    }
   ],
   "source": [
    "def maxSum(f):\n",
    "    lines = f.readlines()\n",
    "    maxSumArray = []\n",
    "    for x in range(len(lines)-1, -1, -1):\n",
    "        data = lines[x].split()\n",
    "        newRow = []\n",
    "        for i in range(len(data)):\n",
    "            if(x == len(lines)-1):\n",
    "                newRow.append(int(data[i]))\n",
    "            else:\n",
    "                newRow.append(max(maxSumArray[0][i], maxSumArray[0][i+1])+int(data[i]))\n",
    "        maxSumArray.insert(0, newRow)\n",
    "    return maxSumArray[0][0]\n",
    "    \n",
    "\n",
    "f = open(\"C:/Users/adonovan/Documents/p67.txt\",\"r\")\n",
    "p18 = open(\"C:/Users/adonovan/Documents/p18.txt\",\"r\")\n",
    "\n",
    "\n",
    "\n",
    "#     if(x == len(p18lines)-1):\n",
    "#         lastRow = []\n",
    "#         for i in range(len(data)):\n",
    "#             lastRow.append(int(data[i]))\n",
    "#         maxSumArray.append(lastRow)\n",
    "#         print(lastRow)\n",
    "#     else:\n",
    "#         newRow = []\n",
    "#         for i in range(len(data)):\n",
    "#             newRow.append(max(maxSumArray[0][i], maxSumArray[0][i+1])+int(data[i]))\n",
    "#         maxSumArray.insert(0, newRow)\n",
    "\n",
    "\n",
    "# f1 = f.readlines()\n",
    "# rows = []\n",
    "# maxSum = []\n",
    "# #Store rows of file\n",
    "# for x in f1:\n",
    "#     data = x.split()\n",
    "#     rows.append(data)\n",
    "#     maxSum.append([0]*len(data))\n",
    "    \n",
    "# #Row, index of row, sum\n",
    "# description = (0, 0, 59)\n",
    "\n",
    "# print(rows)\n"
   ]
  },
  {
   "cell_type": "code",
   "execution_count": null,
   "metadata": {},
   "outputs": [],
   "source": []
  },
  {
   "cell_type": "code",
   "execution_count": null,
   "metadata": {},
   "outputs": [],
   "source": []
  },
  {
   "cell_type": "code",
   "execution_count": null,
   "metadata": {},
   "outputs": [],
   "source": []
  },
  {
   "cell_type": "code",
   "execution_count": null,
   "metadata": {},
   "outputs": [],
   "source": []
  },
  {
   "cell_type": "code",
   "execution_count": null,
   "metadata": {},
   "outputs": [],
   "source": []
  }
 ],
 "metadata": {
  "kernelspec": {
   "display_name": "Python 3",
   "language": "python",
   "name": "python3"
  },
  "language_info": {
   "codemirror_mode": {
    "name": "ipython",
    "version": 3
   },
   "file_extension": ".py",
   "mimetype": "text/x-python",
   "name": "python",
   "nbconvert_exporter": "python",
   "pygments_lexer": "ipython3",
   "version": "3.7.3"
  }
 },
 "nbformat": 4,
 "nbformat_minor": 2
}
