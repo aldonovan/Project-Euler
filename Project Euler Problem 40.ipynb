{
 "cells": [
  {
   "cell_type": "code",
   "execution_count": 22,
   "metadata": {},
   "outputs": [
    {
     "name": "stdout",
     "output_type": "stream",
     "text": [
      "210\n"
     ]
    }
   ],
   "source": [
    "import math\n",
    "digitsArray = []\n",
    "for i in range(1,200000):\n",
    "    digits = []\n",
    "    while i > 0:\n",
    "        digits.insert(0, i % 10)\n",
    "        i = math.floor(i/10)\n",
    "    for j in digits:\n",
    "        digitsArray.append(j)\n",
    "        \n",
    "product = 1\n",
    "for i in range (7):\n",
    "    power = 1\n",
    "    for j in range(i):\n",
    "        power = power*10\n",
    "    product = product * digitsArray[power - 1]\n",
    "print(product)\n",
    "\n",
    "    "
   ]
  }
 ],
 "metadata": {
  "kernelspec": {
   "display_name": "Python 3",
   "language": "python",
   "name": "python3"
  },
  "language_info": {
   "codemirror_mode": {
    "name": "ipython",
    "version": 3
   },
   "file_extension": ".py",
   "mimetype": "text/x-python",
   "name": "python",
   "nbconvert_exporter": "python",
   "pygments_lexer": "ipython3",
   "version": "3.7.3"
  }
 },
 "nbformat": 4,
 "nbformat_minor": 2
}
