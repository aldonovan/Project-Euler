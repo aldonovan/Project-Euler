{
 "cells": [
  {
   "cell_type": "code",
   "execution_count": 30,
   "metadata": {},
   "outputs": [
    {
     "name": "stdout",
     "output_type": "stream",
     "text": [
      "189\n"
     ]
    }
   ],
   "source": [
    "import math\n",
    "def sumFractions(tup1, tup2):\n",
    "    return (tup1[0]*tup2[1]+ tup1[1]*tup2[0], tup1[1]*tup2[1])\n",
    "\n",
    "def divideFractions(tup1, tup2):\n",
    "    return (tup1[0]*tup2[1], tup1[1]*tup2[0])\n",
    "\n",
    "def simplifyFraction(frac):\n",
    "    divisor = gcd(frac[0], frac[1])\n",
    "    return (frac[0]/divisor, frac[1]/divisor)\n",
    "\n",
    "def gcd(a, b):\n",
    "    if(a == 0):\n",
    "        return b\n",
    "    if(b == 0):\n",
    "        return a\n",
    "    if(a == 1 or b == 1):\n",
    "        return 1\n",
    "    if(a > b):\n",
    "        a = a % b\n",
    "    else:\n",
    "        b = b % a\n",
    "    return gcd(a, b)\n",
    "\n",
    "def numDigits(a):\n",
    "    return math.floor(math.log10(a))+1\n",
    "\n",
    "number = 0\n",
    "result = (3, 2)\n",
    "for i in range(999):\n",
    "    result = sumFractions(result, (-1, 1))\n",
    "    result = sumFractions(result, (2, 1))\n",
    "    result = divideFractions((1, 1), result)\n",
    "    result = sumFractions(result, (1, 1))\n",
    "    result = simplifyFraction(result)\n",
    "    if(numDigits(result[0]) > numDigits(result[1])):\n",
    "        number = number + 1\n",
    "print(number)\n",
    "    \n",
    "\n",
    "\n",
    "    \n",
    "    "
   ]
  },
  {
   "cell_type": "code",
   "execution_count": null,
   "metadata": {},
   "outputs": [],
   "source": []
  }
 ],
 "metadata": {
  "kernelspec": {
   "display_name": "Python 3",
   "language": "python",
   "name": "python3"
  },
  "language_info": {
   "codemirror_mode": {
    "name": "ipython",
    "version": 3
   },
   "file_extension": ".py",
   "mimetype": "text/x-python",
   "name": "python",
   "nbconvert_exporter": "python",
   "pygments_lexer": "ipython3",
   "version": "3.7.3"
  }
 },
 "nbformat": 4,
 "nbformat_minor": 2
}
