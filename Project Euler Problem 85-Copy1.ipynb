{
 "cells": [
  {
   "cell_type": "code",
   "execution_count": 26,
   "metadata": {},
   "outputs": [
    {
     "name": "stdout",
     "output_type": "stream",
     "text": [
      "The rectangular grid with a total number of rectangles closest to 2,000,000 is the grid with dimensions 36*77, which has 1999998.0 total rectangles. This rectangular grid has area 2772.\n"
     ]
    }
   ],
   "source": [
    "nums= []\n",
    "closestX = -1\n",
    "closestY = -1\n",
    "minimum = 2000000\n",
    "closestRect = 0\n",
    "for i in range(2, 2100):\n",
    "    nums.append(i)\n",
    "for i in nums:\n",
    "    for j in nums:\n",
    "        rect = i*(i-1)*j*(j-1)/4\n",
    "        if(abs(rect - 2000000) < minimum):\n",
    "            minimum = abs(rect - 2000000)\n",
    "            closestX = i - 1\n",
    "            closestY = j - 1\n",
    "            closestRect = rect\n",
    "print(\"The rectangular grid with a total number of rectangles closest to 2,000,000 is the grid with dimensions \" \n",
    "      +str(closestX) +\"*\"+str(closestY)+\", which has \"+str(closestRect)+\" total rectangles. This rectangular grid has area \"\n",
    "     +str(closestX*closestY)+\".\")\n"
   ]
  }
 ],
 "metadata": {
  "kernelspec": {
   "display_name": "Python 3",
   "language": "python",
   "name": "python3"
  },
  "language_info": {
   "codemirror_mode": {
    "name": "ipython",
    "version": 3
   },
   "file_extension": ".py",
   "mimetype": "text/x-python",
   "name": "python",
   "nbconvert_exporter": "python",
   "pygments_lexer": "ipython3",
   "version": "3.7.3"
  }
 },
 "nbformat": 4,
 "nbformat_minor": 2
}
