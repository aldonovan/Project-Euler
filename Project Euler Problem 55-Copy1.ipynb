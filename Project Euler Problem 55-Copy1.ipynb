{
 "cells": [
  {
   "cell_type": "code",
   "execution_count": 27,
   "metadata": {},
   "outputs": [
    {
     "name": "stdout",
     "output_type": "stream",
     "text": [
      "249\n"
     ]
    }
   ],
   "source": [
    "import math\n",
    "def getReverse(x):\n",
    "    reverse = 0\n",
    "    while(x > 0):\n",
    "        reverse = reverse * 10 + x % 10\n",
    "        x = math.floor(x/10)\n",
    "    return reverse\n",
    "\n",
    "def isPalindrome(x):\n",
    "    if(x < 10):\n",
    "        return True\n",
    "    firstDigit = math.floor(x / 10**(math.floor(math.log10(x))))\n",
    "    lastDigit = x % 10\n",
    "    if(firstDigit != lastDigit):\n",
    "        return False\n",
    "    x = x - firstDigit * 10**(math.floor(math.log10(x)))\n",
    "    x = math.floor(x/10)\n",
    "    return isPalindrome(x)\n",
    "\n",
    "def isLychrel(x):\n",
    "    for i in range(60):\n",
    "        x = x + getReverse(x)\n",
    "        if(isPalindrome(x)):\n",
    "            return False\n",
    "    return True\n",
    "        \n",
    "number = 0\n",
    "for i in range(10000):\n",
    "    if(isLychrel(i)):\n",
    "        number = number + 1\n",
    "        \n",
    "print(number)\n",
    "    "
   ]
  },
  {
   "cell_type": "code",
   "execution_count": null,
   "metadata": {},
   "outputs": [],
   "source": []
  }
 ],
 "metadata": {
  "kernelspec": {
   "display_name": "Python 3",
   "language": "python",
   "name": "python3"
  },
  "language_info": {
   "codemirror_mode": {
    "name": "ipython",
    "version": 3
   },
   "file_extension": ".py",
   "mimetype": "text/x-python",
   "name": "python",
   "nbconvert_exporter": "python",
   "pygments_lexer": "ipython3",
   "version": "3.7.3"
  }
 },
 "nbformat": 4,
 "nbformat_minor": 2
}
