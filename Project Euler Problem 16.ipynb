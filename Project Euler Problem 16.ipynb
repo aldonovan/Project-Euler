{
 "cells": [
  {
   "cell_type": "code",
   "execution_count": null,
   "metadata": {},
   "outputs": [],
   "source": [
    "#Physically implements multiplication by 2 with arrays\n",
    "def multiplyBy2(x):\n",
    "    carry = False\n",
    "    for y in range(len(x)-1, -1, -1):\n",
    "        x[y]*=2\n",
    "        if(carry):\n",
    "            x[y]+=1\n",
    "        if(x[y] >= 10):\n",
    "            x[y] = x[y] % 10\n",
    "            carry=True\n",
    "        else:\n",
    "            carry = False\n",
    "    if(carry):\n",
    "        x[0] = x[0] % 10\n",
    "        x.insert(0, 1)\n",
    "\n",
    "x = [1]\n",
    "for y in range(1000):\n",
    "    multiplyBy2(x)\n",
    "    \n",
    "sum = 0\n",
    "for number in x:\n",
    "    sum += number\n",
    "print(sum)\n",
    "\n",
    "\n",
    "#Easier way\n",
    "digitSum = 0\n",
    "for digit in str(2**1000):\n",
    "    digitSum += int(digit)\n",
    "print(digitSum)\n",
    "        "
   ]
  }
 ],
 "metadata": {
  "kernelspec": {
   "display_name": "Python 3",
   "language": "python",
   "name": "python3"
  },
  "language_info": {
   "codemirror_mode": {
    "name": "ipython",
    "version": 3
   },
   "file_extension": ".py",
   "mimetype": "text/x-python",
   "name": "python",
   "nbconvert_exporter": "python",
   "pygments_lexer": "ipython3",
   "version": "3.7.3"
  }
 },
 "nbformat": 4,
 "nbformat_minor": 2
}
