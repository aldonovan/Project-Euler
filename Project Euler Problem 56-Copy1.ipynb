{
 "cells": [
  {
   "cell_type": "code",
   "execution_count": 14,
   "metadata": {},
   "outputs": [
    {
     "name": "stdout",
     "output_type": "stream",
     "text": [
      "972\n"
     ]
    }
   ],
   "source": [
    "#a^b maximum digital sum\n",
    "\n",
    "def getDigitSum(x):\n",
    "    digitSum = 0\n",
    "    stringNumber = str(x)\n",
    "    for i in range(len(stringNumber)):\n",
    "        digitSum += int(stringNumber[i])\n",
    "    return digitSum\n",
    "\n",
    "newNumber = 0\n",
    "\n",
    "for i in range(2, 100):\n",
    "    base = i\n",
    "    for j in range(1, 99):\n",
    "        newNumber = max(newNumber, getDigitSum(base ** j))\n",
    "print(newNumber)\n",
    "\n"
   ]
  },
  {
   "cell_type": "code",
   "execution_count": null,
   "metadata": {},
   "outputs": [],
   "source": []
  }
 ],
 "metadata": {
  "kernelspec": {
   "display_name": "Python 3",
   "language": "python",
   "name": "python3"
  },
  "language_info": {
   "codemirror_mode": {
    "name": "ipython",
    "version": 3
   },
   "file_extension": ".py",
   "mimetype": "text/x-python",
   "name": "python",
   "nbconvert_exporter": "python",
   "pygments_lexer": "ipython3",
   "version": "3.7.3"
  }
 },
 "nbformat": 4,
 "nbformat_minor": 2
}
