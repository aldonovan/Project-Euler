{
 "cells": [
  {
   "cell_type": "code",
   "execution_count": 25,
   "metadata": {},
   "outputs": [
    {
     "name": "stdout",
     "output_type": "stream",
     "text": [
      "70600674\n"
     ]
    }
   ],
   "source": [
    "maxProduct = 0\n",
    "def updateMax(x):\n",
    "    global maxProduct\n",
    "    if(x > maxProduct):\n",
    "        maxProduct = x\n",
    "\n",
    "p18 = open(\"C:/Users/adonovan/Documents/p11.txt\",\"r\")\n",
    "lines = p18.readlines()\n",
    "table=[]\n",
    "product = 0\n",
    "for x in range(len(lines)-1,-1,-1):\n",
    "    data=lines[x].split()\n",
    "    for y in range(len(data)):\n",
    "        data[y]=int(data[y])\n",
    "    table.append(data)\n",
    "    for i in range(len(data)-3):\n",
    "        product = data[i]*data[i+1]*data[i+2]*data[i+3]\n",
    "        if(product>maxProduct):\n",
    "            maxProduct = product\n",
    "    if (x < len(lines) - 3):\n",
    "        for i in range(len(data)):\n",
    "            product = data[i]*table[0][i]*table[1][i]*table[2][i]\n",
    "            updateMax(product)\n",
    "        for j in range(len(data)-3):\n",
    "            product = data[j]*table[0][j+1]*table[1][j+2]*table[2][j+3]\n",
    "            updateMax(product)\n",
    "        for k in range(3, len(data)):\n",
    "            product = data[k]*table[0][k-1]*table[1][k-2]*table[2][k-3]\n",
    "            updateMax(product)\n",
    "    table.insert(0, data)\n",
    "    \n",
    "#Alternatively, we could index the entire list and then do stuff based on mod length of the row\n",
    "print(maxProduct)"
   ]
  },
  {
   "cell_type": "code",
   "execution_count": null,
   "metadata": {},
   "outputs": [],
   "source": []
  },
  {
   "cell_type": "code",
   "execution_count": null,
   "metadata": {},
   "outputs": [],
   "source": []
  }
 ],
 "metadata": {
  "kernelspec": {
   "display_name": "Python 3",
   "language": "python",
   "name": "python3"
  },
  "language_info": {
   "codemirror_mode": {
    "name": "ipython",
    "version": 3
   },
   "file_extension": ".py",
   "mimetype": "text/x-python",
   "name": "python",
   "nbconvert_exporter": "python",
   "pygments_lexer": "ipython3",
   "version": "3.7.3"
  }
 },
 "nbformat": 4,
 "nbformat_minor": 2
}
