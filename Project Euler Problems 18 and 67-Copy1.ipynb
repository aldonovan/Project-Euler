{
 "cells": [
  {
   "cell_type": "code",
   "execution_count": 43,
   "metadata": {},
   "outputs": [
    {
     "name": "stdout",
     "output_type": "stream",
     "text": [
      "1074\n",
      "7273\n"
     ]
    }
   ],
   "source": [
    "#Calculates maximum sum by starting at the bottom of the table and comparing maximum sum between 2 possible choices\n",
    "def maxSum(f):\n",
    "    lines = f.readlines()\n",
    "    maxSumArray = []\n",
    "    for x in range(len(lines)-1, -1, -1):\n",
    "        data = lines[x].split()\n",
    "        newRow = []\n",
    "        for i in range(len(data)):\n",
    "            if(x == len(lines)-1):\n",
    "                newRow.append(int(data[i]))\n",
    "            else:\n",
    "                newRow.append(max(maxSumArray[0][i], maxSumArray[0][i+1])+int(data[i]))\n",
    "        maxSumArray.insert(0, newRow)\n",
    "    return maxSumArray[0][0]\n",
    "    \n",
    "p18 = open(\"C:/Users/adonovan/Documents/p18.txt\",\"r\")\n",
    "p67 = open(\"C:/Users/adonovan/Documents/p67.txt\",\"r\")\n",
    "print(maxSum(p18))\n",
    "print(maxSum(p67))"
   ]
  },
  {
   "cell_type": "code",
   "execution_count": null,
   "metadata": {},
   "outputs": [],
   "source": []
  },
  {
   "cell_type": "code",
   "execution_count": null,
   "metadata": {},
   "outputs": [],
   "source": []
  },
  {
   "cell_type": "code",
   "execution_count": null,
   "metadata": {},
   "outputs": [],
   "source": []
  },
  {
   "cell_type": "code",
   "execution_count": null,
   "metadata": {},
   "outputs": [],
   "source": []
  },
  {
   "cell_type": "code",
   "execution_count": null,
   "metadata": {},
   "outputs": [],
   "source": []
  }
 ],
 "metadata": {
  "kernelspec": {
   "display_name": "Python 3",
   "language": "python",
   "name": "python3"
  },
  "language_info": {
   "codemirror_mode": {
    "name": "ipython",
    "version": 3
   },
   "file_extension": ".py",
   "mimetype": "text/x-python",
   "name": "python",
   "nbconvert_exporter": "python",
   "pygments_lexer": "ipython3",
   "version": "3.7.3"
  }
 },
 "nbformat": 4,
 "nbformat_minor": 2
}
