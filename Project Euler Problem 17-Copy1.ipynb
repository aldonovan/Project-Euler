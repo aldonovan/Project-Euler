{
 "cells": [
  {
   "cell_type": "code",
   "execution_count": 18,
   "metadata": {},
   "outputs": [
    {
     "name": "stdout",
     "output_type": "stream",
     "text": [
      "864\n",
      "21224\n"
     ]
    }
   ],
   "source": [
    "\n",
    "sumOneToNine = 3 + 3 + 5 + 4 + 4 + 3 + 5 + 5 + 4\n",
    "sumTenToNineteen = 3 + 6 + 6 + 8 + 8 + 7 + 7 + 9 + 8 + 8\n",
    "twenty = 6\n",
    "thirty = 6\n",
    "fourty = 6\n",
    "fifty = 5\n",
    "sixty = 5\n",
    "seventy = 7\n",
    "eighty = 6\n",
    "ninety = 6\n",
    "\n",
    "\n",
    "#We need the sum of 10-19 + 9*sum of 1-9 (1-9 and 21-99) + 10*sum of 20,30,40,50,60,70,80,90\n",
    "sumOneTo99 = 9*sumOneToNine + sumTenToNineteen + (twenty + thirty + fourty + fifty + sixty\n",
    "                                                    + seventy + eighty + ninety)*(10)\n",
    "\n",
    "print(sumOneTo99)\n",
    "hundred = 7\n",
    "And = 3\n",
    "\n",
    "oneThousand = 11\n",
    "\n",
    "#Sum of 1-99 + Sum of 100-999 + oneThousand\n",
    "#10*Sum of 1-99 + letters in hundreds part\n",
    "#1 through 9 appear 100 times in hundreds part: 100*sumOneToNine\n",
    "#Hundred appears 900 times \n",
    "#And appears 99*9= 891 times\n",
    "#10*sumOneTo99 + 100*sumOneToNine + hundred*900 + 891*And + oneThousand\n",
    "sumOneToThousand = 10*sumOneTo99 + (sumOneToNine+hundred*9)*100 + 891*And + oneThousand\n",
    "print(sumOneToThousand)\n"
   ]
  },
  {
   "cell_type": "code",
   "execution_count": 20,
   "metadata": {},
   "outputs": [
    {
     "name": "stdout",
     "output_type": "stream",
     "text": [
      "21224\n"
     ]
    }
   ],
   "source": [
    "sum1to9 = 36\n",
    "sum10to19 = 70\n",
    "sum20to99 = 8*sum1to9 + 47*10\n",
    "\n",
    "sum1to99 = sum1to9 + sum10to19 + sum20to99\n",
    "sumLastParts = sum1to99 * 10\n",
    "sumHundredAnd = 900*7+891*3\n",
    "sumFront = sum1to9 * 100\n",
    "oneThousand = 11\n",
    "\n",
    "sum1to1000 = sumLastParts + sumHundredAnd + sumFront + oneThousand\n",
    "print(sum1to1000)"
   ]
  },
  {
   "cell_type": "code",
   "execution_count": 36,
   "metadata": {},
   "outputs": [
    {
     "name": "stdout",
     "output_type": "stream",
     "text": [
      "1366\n",
      "1366\n"
     ]
    }
   ],
   "source": [
    "#Physically implements multiplication by 2 with arrays\n",
    "def multiplyBy2(x):\n",
    "    carry = False\n",
    "    for y in range(len(x)-1, -1, -1):\n",
    "        x[y]*=2\n",
    "        if(carry):\n",
    "            x[y]+=1\n",
    "        if(x[y] >= 10):\n",
    "            x[y] = x[y] % 10\n",
    "            carry=True\n",
    "        else:\n",
    "            carry = False\n",
    "    if(carry):\n",
    "        x[0] = x[0] % 10\n",
    "        x.insert(0, 1)\n",
    "\n",
    "x = [1]\n",
    "for y in range(1000):\n",
    "    multiplyBy2(x)\n",
    "    \n",
    "sum = 0\n",
    "for number in x:\n",
    "    sum += number\n",
    "print(sum)\n",
    "\n",
    "\n",
    "#Easier way\n",
    "digitSum = 0\n",
    "for digit in str(2**1000):\n",
    "    digitSum += int(digit)\n",
    "print(digitSum)\n",
    "        "
   ]
  },
  {
   "cell_type": "code",
   "execution_count": null,
   "metadata": {},
   "outputs": [],
   "source": []
  }
 ],
 "metadata": {
  "kernelspec": {
   "display_name": "Python 3",
   "language": "python",
   "name": "python3"
  },
  "language_info": {
   "codemirror_mode": {
    "name": "ipython",
    "version": 3
   },
   "file_extension": ".py",
   "mimetype": "text/x-python",
   "name": "python",
   "nbconvert_exporter": "python",
   "pygments_lexer": "ipython3",
   "version": "3.7.3"
  }
 },
 "nbformat": 4,
 "nbformat_minor": 2
}
