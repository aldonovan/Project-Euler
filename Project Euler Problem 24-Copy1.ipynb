{
 "cells": [
  {
   "cell_type": "code",
   "execution_count": 47,
   "metadata": {},
   "outputs": [
    {
     "name": "stdout",
     "output_type": "stream",
     "text": [
      "[2, 7, 8, 3, 9, 1, 5, 4, 6, 0]\n"
     ]
    }
   ],
   "source": [
    "numPermutation = 0\n",
    "\n",
    "def generatePermutations(y, perm):\n",
    "    if(len(y)==0):\n",
    "        global numPermutation\n",
    "        numPermutation = numPermutation + 1\n",
    "        if(numPermutation == 1000000):\n",
    "            print(perm)\n",
    "        return\n",
    "    for element in y:\n",
    "        position = y.index(element)\n",
    "        y.remove(element)\n",
    "        perm.append(element)\n",
    "        generatePermutations(y, perm)\n",
    "        perm.remove(element)\n",
    "        y.insert(position, element)\n",
    "        \n",
    "y=[0, 1, 2, 3, 4, 5, 6, 7, 8, 9]\n",
    "x= []\n",
    "generatePermutations(y, x)"
   ]
  },
  {
   "cell_type": "code",
   "execution_count": null,
   "metadata": {},
   "outputs": [],
   "source": []
  },
  {
   "cell_type": "code",
   "execution_count": null,
   "metadata": {},
   "outputs": [],
   "source": []
  }
 ],
 "metadata": {
  "kernelspec": {
   "display_name": "Python 3",
   "language": "python",
   "name": "python3"
  },
  "language_info": {
   "codemirror_mode": {
    "name": "ipython",
    "version": 3
   },
   "file_extension": ".py",
   "mimetype": "text/x-python",
   "name": "python",
   "nbconvert_exporter": "python",
   "pygments_lexer": "ipython3",
   "version": "3.7.3"
  }
 },
 "nbformat": 4,
 "nbformat_minor": 2
}
